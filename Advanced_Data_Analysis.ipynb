{
 "cells": [
  {
   "cell_type": "markdown",
   "id": "6b162bdd-cb3c-4932-b07d-4fff0bb91872",
   "metadata": {},
   "source": [
    "Step 1: Load the MNIST Dataset\n",
    "The MNIST dataset can be easily loaded using Keras. The dataset consists of 60,000 training images and 10,000 testing images of handwritten digits (0-9) in grayscale, each of size 28x28 pixel.s"
   ]
  },
  {
   "cell_type": "code",
   "execution_count": 1,
   "id": "b3d1db60-44e4-49da-aea6-1cbec4ed30ca",
   "metadata": {},
   "outputs": [
    {
     "name": "stdout",
     "output_type": "stream",
     "text": [
      "WARNING:tensorflow:From C:\\Users\\grays\\anaconda3\\Lib\\site-packages\\keras\\src\\losses.py:2976: The name tf.losses.sparse_softmax_cross_entropy is deprecated. Please use tf.compat.v1.losses.sparse_softmax_cross_entropy instead.\n",
      "\n",
      "Downloading data from https://storage.googleapis.com/tensorflow/tf-keras-datasets/mnist.npz\n",
      "11490434/11490434 [==============================] - 0s 0us/step\n"
     ]
    }
   ],
   "source": [
    "from keras.datasets import mnist\n",
    "(train_X, train_y), (test_X, test_y) = mnist.load_data()\n"
   ]
  },
  {
   "cell_type": "markdown",
   "id": "55df8f04-bd6d-4e2c-86ef-9773e3727320",
   "metadata": {},
   "source": [
    "Step 2: Display the First Five Images in the Training Dataset\n",
    "To visualize the first five images in the training dataset along with their label.:"
   ]
  },
  {
   "cell_type": "code",
   "execution_count": 2,
   "id": "e0972046-0b70-47c9-a6ec-438a01a0c8d5",
   "metadata": {},
   "outputs": [
    {
     "data": {
      "image/png": "[encoded data removed]",
      "text/plain": [
       "<Figure size 640x480 with 5 Axes>"
      ]
     },
     "metadata": {},
     "output_type": "display_data"
    }
   ],
   "source": [
    "import matplotlib.pyplot as plt\n",
    "\n",
    "# Display the first five images\n",
    "for i in range(5):\n",
    "    plt.subplot(1, 5, i+1)\n",
    "    plt.imshow(train_X[i], cmap='gray')\n",
    "    plt.title('Label: %d' % train_y[i])\n",
    "    plt.axis('off')\n",
    "plt.show()\n"
   ]
  },
  {
   "cell_type": "code",
   "execution_count": null,
   "id": "6e92cab1-7d43-4875-b488-cd8058a6fac5",
   "metadata": {},
   "outputs": [],
   "source": [
    "Step 3: Build and Train a Keras CNN Classifier\n",
    "We will now define a simple CNN model and train it on the MNIST training set."
   ]
  },
  {
   "cell_type": "code",
   "execution_count": 3,
   "id": "9282e986-c61c-41b0-bfac-91ddec806a18",
   "metadata": {},
   "outputs": [
    {
     "name": "stdout",
     "output_type": "stream",
     "text": [
      "WARNING:tensorflow:From C:\\Users\\grays\\anaconda3\\Lib\\site-packages\\keras\\src\\backend.py:873: The name tf.get_default_graph is deprecated. Please use tf.compat.v1.get_default_graph instead.\n",
      "\n",
      "WARNING:tensorflow:From C:\\Users\\grays\\anaconda3\\Lib\\site-packages\\keras\\src\\layers\\pooling\\max_pooling2d.py:161: The name tf.nn.max_pool is deprecated. Please use tf.nn.max_pool2d instead.\n",
      "\n",
      "WARNING:tensorflow:From C:\\Users\\grays\\anaconda3\\Lib\\site-packages\\keras\\src\\optimizers\\__init__.py:309: The name tf.train.Optimizer is deprecated. Please use tf.compat.v1.train.Optimizer instead.\n",
      "\n",
      "Epoch 1/10\n",
      "WARNING:tensorflow:From C:\\Users\\grays\\anaconda3\\Lib\\site-packages\\keras\\src\\utils\\tf_utils.py:492: The name tf.ragged.RaggedTensorValue is deprecated. Please use tf.compat.v1.ragged.RaggedTensorValue instead.\n",
      "\n",
      "WARNING:tensorflow:From C:\\Users\\grays\\anaconda3\\Lib\\site-packages\\keras\\src\\engine\\base_layer_utils.py:384: The name tf.executing_eagerly_outside_functions is deprecated. Please use tf.compat.v1.executing_eagerly_outside_functions instead.\n",
      "\n",
      "300/300 [==============================] - 3s 8ms/step - loss: 0.2671 - accuracy: 0.9272 - val_loss: 0.0993 - val_accuracy: 0.9707\n",
      "Epoch 2/10\n",
      "300/300 [==============================] - 2s 8ms/step - loss: 0.0834 - accuracy: 0.9766 - val_loss: 0.0715 - val_accuracy: 0.9782\n",
      "Epoch 3/10\n",
      "300/300 [==============================] - 2s 8ms/step - loss: 0.0577 - accuracy: 0.9827 - val_loss: 0.0538 - val_accuracy: 0.9819\n",
      "Epoch 4/10\n",
      "300/300 [==============================] - 2s 8ms/step - loss: 0.0436 - accuracy: 0.9873 - val_loss: 0.0500 - val_accuracy: 0.9829\n",
      "Epoch 5/10\n",
      "300/300 [==============================] - 2s 8ms/step - loss: 0.0343 - accuracy: 0.9900 - val_loss: 0.0553 - val_accuracy: 0.9814\n",
      "Epoch 6/10\n",
      "300/300 [==============================] - 2s 8ms/step - loss: 0.0267 - accuracy: 0.9923 - val_loss: 0.0489 - val_accuracy: 0.9841\n",
      "Epoch 7/10\n",
      "300/300 [==============================] - 2s 8ms/step - loss: 0.0209 - accuracy: 0.9941 - val_loss: 0.0477 - val_accuracy: 0.9831\n",
      "Epoch 8/10\n",
      "300/300 [==============================] - 2s 8ms/step - loss: 0.0167 - accuracy: 0.9955 - val_loss: 0.0513 - val_accuracy: 0.9838\n",
      "Epoch 9/10\n",
      "300/300 [==============================] - 2s 8ms/step - loss: 0.0124 - accuracy: 0.9966 - val_loss: 0.0457 - val_accuracy: 0.9853\n",
      "Epoch 10/10\n",
      "300/300 [==============================] - 2s 8ms/step - loss: 0.0112 - accuracy: 0.9968 - val_loss: 0.0549 - val_accuracy: 0.9830\n"
     ]
    },
    {
     "data": {
      "text/plain": [
       "<keras.src.callbacks.History at 0x1c9c27a1290>"
      ]
     },
     "execution_count": 3,
     "metadata": {},
     "output_type": "execute_result"
    }
   ],
   "source": [
    "from keras.models import Sequential\n",
    "from keras.layers import Dense, Conv2D, Flatten, MaxPooling2D\n",
    "from keras.utils import to_categorical\n",
    "\n",
    "# Preprocess the data\n",
    "train_X = train_X.reshape((train_X.shape[0], 28, 28, 1)).astype('float32') / 255\n",
    "test_X = test_X.reshape((test_X.shape[0], 28, 28, 1)).astype('float32') / 255\n",
    "train_y = to_categorical(train_y)\n",
    "test_y = to_categorical(test_y)\n",
    "\n",
    "# Define the model\n",
    "model = Sequential([\n",
    "    Conv2D(32, kernel_size=(3, 3), activation='relu', input_shape=(28, 28, 1)),\n",
    "    MaxPooling2D(pool_size=(2, 2)),\n",
    "    Flatten(),\n",
    "    Dense(128, activation='relu'),\n",
    "    Dense(10, activation='softmax')\n",
    "])\n",
    "\n",
    "# Compile the model\n",
    "model.compile(optimizer='adam', loss='categorical_crossentropy', metrics=['accuracy'])\n",
    "\n",
    "# Train the model\n",
    "model.fit(train_X, train_y, validation_data=(test_X, test_y), epochs=10, batch_size=200)\n"
   ]
  },
  {
   "cell_type": "markdown",
   "id": "8fe38ec7-6525-44c7-bf91-9c8b58f77a33",
   "metadata": {},
   "source": [
    "Step 4: Report the Test Accuracy of the Model\n",
    "After training, we evaluate the model on the test set to report its accuracy."
   ]
  },
  {
   "cell_type": "code",
   "execution_count": 4,
   "id": "d956bdb9-3742-45f8-acec-bc06934979a7",
   "metadata": {},
   "outputs": [
    {
     "name": "stdout",
     "output_type": "stream",
     "text": [
      "313/313 [==============================] - 0s 1ms/step - loss: 0.0549 - accuracy: 0.9830\n",
      "Test accuracy: 0.9829999804496765\n"
     ]
    }
   ],
   "source": [
    "test_loss, test_acc = model.evaluate(test_X, test_y)\n",
    "print('Test accuracy:', test_acc)\n"
   ]
  },
  {
   "cell_type": "markdown",
   "id": "1f97bea7-df41-4390-b4f6-d9f027b10b28",
   "metadata": {},
   "source": [
    "Step 5: Display a Confusion Matrix on the Test Set Classifications\n",
    "To display a confusion matrix, I first need to predict the classes for the test set and then compare them with the true labels."
   ]
  },
  {
   "cell_type": "code",
   "execution_count": 5,
   "id": "4ca51d51-ae78-4e21-bbbc-9ac01e959862",
   "metadata": {},
   "outputs": [
    {
     "name": "stdout",
     "output_type": "stream",
     "text": [
      "313/313 [==============================] - 0s 1ms/step\n"
     ]
    },
    {
     "data": {
      "image/png": "[encoded data removed]",
      "text/plain": [
       "<Figure size 1000x800 with 2 Axes>"
      ]
     },
     "metadata": {},
     "output_type": "display_data"
    }
   ],
   "source": [
    "import numpy as np\n",
    "from sklearn.metrics import confusion_matrix\n",
    "import seaborn as sns\n",
    "\n",
    "# Predict the values from the test dataset\n",
    "test_pred = model.predict(test_X)\n",
    "test_pred_classes = np.argmax(test_pred, axis=1)\n",
    "test_true = np.argmax(test_y, axis=1)\n",
    "\n",
    "# Compute the confusion matrix\n",
    "conf_matrix = confusion_matrix(test_true, test_pred_classes)\n",
    "\n",
    "# Plot the confusion matrix\n",
    "plt.figure(figsize=(10, 8))\n",
    "sns.heatmap(conf_matrix, annot=True, fmt='d', cmap='Blues')\n",
    "plt.xlabel('Predicted Label')\n",
    "plt.ylabel('True Label')\n",
    "plt.show()\n"
   ]
  },
  {
   "cell_type": "code",
   "execution_count": null,
   "id": "e6d8ca77-6b56-4fe8-8824-ca58d1bb4c1b",
   "metadata": {},
   "outputs": [],
   "source": []
  }
 ],
 "metadata": {
  "kernelspec": {
   "display_name": "Python 3 (ipykernel)",
   "language": "python",
   "name": "python3"
  },
  "language_info": {
   "codemirror_mode": {
    "name": "ipython",
    "version": 3
   },
   "file_extension": ".py",
   "mimetype": "text/x-python",
   "name": "python",
   "nbconvert_exporter": "python",
   "pygments_lexer": "ipython3",
   "version": "3.11.7"
  }
 },
 "nbformat": 4,
 "nbformat_minor": 5
}
